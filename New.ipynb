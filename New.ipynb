{
  "metadata": {
    "kernelspec": {
      "name": "python"
    },
    "language_info": {
      "name": "python",
      "version": "3.5.1"
    }
  },
  "nbformat": 4,
  "nbformat_minor": 0,
  "cells": [
    {
      "cell_type": "markdown",
      "source": "Keras + CV\n\nThanks @anokas for the starter code at https://www.kaggle.com/anokas/planet-understanding-the-amazon-from-space/simple-keras-starter/",
      "metadata": {}
    },
    {
      "cell_type": "code",
      "source": "import numpy as np # linear algebra\nimport pandas as pd # data processing, CSV file I/O (e.g. pd.read_csv)\nimport os\nimport gc\n\nimport keras as k\nfrom keras.models import Sequential\nfrom keras.layers import Dense, Dropout, Flatten\nfrom keras.layers import Conv2D, MaxPooling2D\nfrom keras.callbacks import EarlyStopping, ModelCheckpoint\n\nimport cv2\nfrom tqdm import tqdm\n\nfrom sklearn.cross_validation import train_test_split\nfrom sklearn.cross_validation import KFold\nfrom sklearn.metrics import fbeta_score\nimport time",
      "execution_count": null,
      "outputs": [],
      "metadata": {}
    },
    {
      "cell_type": "markdown",
      "source": "Pre-processing the train and test data",
      "metadata": {}
    },
    {
      "cell_type": "code",
      "source": "x_train = []\nx_test = []\ny_train = []\n\ndf_train = pd.read_csv('../input/train.csv')\ndf_test = pd.read_csv('../input/sample_submission.csv')\n\nflatten = lambda l: [item for sublist in l for item in sublist]\nlabels = list(set(flatten([l.split(' ') for l in df_train['tags'].values])))\n\nlabel_map = {l: i for i, l in enumerate(labels)}\ninv_label_map = {i: l for l, i in label_map.items()}\n\nfor f, tags in tqdm(df_train.values[:20000], miniters=1000):\n    img = cv2.imread('../input/train-jpg/{}.jpg'.format(f))\n    targets = np.zeros(17)\n    for t in tags.split(' '):\n        targets[label_map[t]] = 1 \n    x_train.append(cv2.resize(img, (32, 32)))\n    y_train.append(targets)\n\nfor f, tags in tqdm(df_test.values, miniters=1000):\n    img = cv2.imread('../input/test-jpg/{}.jpg'.format(f))\n    x_test.append(cv2.resize(img, (32, 32)))\n    \ny_train = np.array(y_train, np.uint8)\nx_train = np.array(x_train, np.float32) / 255.\nx_test  = np.array(x_test, np.float32) / 255.\n\nprint(x_train.shape)\nprint(y_train.shape)",
      "execution_count": null,
      "outputs": [],
      "metadata": {}
    },
    {
      "cell_type": "markdown",
      "source": "Transpose the data if use Theano",
      "metadata": {}
    },
    {
      "cell_type": "code",
      "source": "#x_train = x_train.transpose((0, 3, 1, 2))\n#x_test = x_test.transpose((0, 3, 1, 2))",
      "execution_count": null,
      "outputs": [],
      "metadata": {}
    },
    {
      "cell_type": "markdown",
      "source": "Create n-folds cross-validation",
      "metadata": {}
    },
    {
      "cell_type": "code",
      "source": "nfolds = 3\n\nnum_fold = 0\nsum_score = 0\n\nyfull_test = []\nyfull_train =[]\n\nkf = KFold(len(y_train), n_folds=nfolds, shuffle=True, random_state=1)\n\nfor train_index, test_index in kf:\n        start_time_model_fitting = time.time()\n        \n        X_train = x_train[train_index]\n        Y_train = y_train[train_index]\n        X_valid = x_train[test_index]\n        Y_valid = y_train[test_index]\n\n        num_fold += 1\n        print('Start KFold number {} from {}'.format(num_fold, nfolds))\n        print('Split train: ', len(X_train), len(Y_train))\n        print('Split valid: ', len(X_valid), len(Y_valid))\n        \n        kfold_weights_path = os.path.join('', 'weights_kfold_' + str(num_fold) + '.h5')\n        \n        model = Sequential()\n        model.add(Conv2D(32, 3, 3, activation='relu', input_shape=(32, 32, 3)))\n        model.add(MaxPooling2D(pool_size=(2, 2)))\n        model.add(Conv2D(48, 3, 3, activation='relu'))\n        model.add(MaxPooling2D(pool_size=(2, 2)))\n        model.add(Dropout(0.25))\n        model.add(Conv2D(64, 3, 3, activation='relu'))\n        model.add(MaxPooling2D(pool_size=(2, 2)))\n        model.add(Dropout(0.25))\n        model.add(Flatten())\n        model.add(Dense(128, activation='relu'))\n        model.add(Dropout(0.5))\n        model.add(Dense(17, activation='sigmoid'))\n\n        model.compile(loss='binary_crossentropy', \n                      optimizer='adam',\n                      metrics=['accuracy'])\n        callbacks = [\n            EarlyStopping(monitor='val_loss', patience=2, verbose=0),\n            ModelCheckpoint(kfold_weights_path, monitor='val_loss', save_best_only=True, verbose=0)]\n        \n        model.fit(x = X_train, y= Y_train, validation_data=(X_valid, Y_valid),\n                  batch_size=128,verbose=2, nb_epoch=7,callbacks=callbacks,\n                  shuffle=True)\n        \n        if os.path.isfile(kfold_weights_path):\n            model.load_weights(kfold_weights_path)\n        \n        p_valid = model.predict(X_valid, batch_size = 128, verbose=2)\n        print(fbeta_score(Y_valid, np.array(p_valid) > 0.2, beta=2, average='samples'))\n        \n        p_test = model.predict(x_train, batch_size = 128, verbose=2)\n        yfull_train.append(p_test)\n        \n        p_test = model.predict(x_test, batch_size = 128, verbose=2)\n        yfull_test.append(p_test)",
      "execution_count": null,
      "outputs": [],
      "metadata": {}
    },
    {
      "cell_type": "markdown",
      "source": "Averaging the prediction from each fold",
      "metadata": {}
    },
    {
      "cell_type": "code",
      "source": "result = np.array(yfull_test[0])\nfor i in range(1, nfolds):\n    result += np.array(yfull_test[i])\nresult /= nfolds\nresult = pd.DataFrame(result, columns = labels)\nresult",
      "execution_count": null,
      "outputs": [],
      "metadata": {}
    },
    {
      "cell_type": "markdown",
      "source": "Output prediction for submission",
      "metadata": {}
    },
    {
      "cell_type": "code",
      "source": "from tqdm import tqdm\n\npreds = []\nfor i in tqdm(range(result.shape[0]), miniters=1000):\n    a = result.ix[[i]]\n    a = a.apply(lambda x: x > 0.2, axis=1)\n    a = a.transpose()\n    a = a.loc[a[i] == True]\n    ' '.join(list(a.index))\n    preds.append(' '.join(list(a.index)))",
      "execution_count": null,
      "outputs": [],
      "metadata": {}
    },
    {
      "cell_type": "code",
      "source": "df_test['tags'] = preds\ndf_test",
      "execution_count": null,
      "outputs": [],
      "metadata": {}
    },
    {
      "cell_type": "code",
      "source": "df_test.to_csv('submission_keras.csv', index=False)",
      "execution_count": null,
      "outputs": [],
      "metadata": {}
    }
  ]
}